{
  "cells": [
    {
      "cell_type": "markdown",
      "metadata": {},
      "source": [
        "Example of using liquid neural networks.\n"
      ]
    },
    {
      "cell_type": "code",
      "execution_count": null,
      "metadata": {
        "collapsed": false
      },
      "outputs": [],
      "source": [
        "import keras\nimport numpy as np\nfrom ncps import ops\nfrom ncps.layers.liquid import LiquidCell, CfCCell\nfrom ncps.layers.rnn import RNN\nfrom ncps.layers.layer import Dense, Sequential\n\n\ndef create_liquid_model(\n    input_dim: int,\n    hidden_dim: int,\n    output_dim: int,\n    backbone_units: int = 64,\n    backbone_layers: int = 2,\n    mode: str = \"pure\"\n):\n    \"\"\"Create a model using liquid neurons.\n    \n    Args:\n        input_dim: Input dimension\n        hidden_dim: Hidden state dimension\n        output_dim: Output dimension\n        backbone_units: Units in backbone layers\n        backbone_layers: Number of backbone layers\n        mode: CfC mode (\"pure\", \"gated\", or \"no_gate\")\n        \n    Returns:\n        Sequential model\n    \"\"\"\n    # Create CfC cell\n    cell = CfCCell(\n        units=hidden_dim,\n        activation=\"tanh\",\n        backbone_units=backbone_units,\n        backbone_layers=backbone_layers,\n        backbone_dropout=0.1,\n        mode=mode,\n        dtype=\"float32\"\n    )\n    \n    # Create RNN layer\n    rnn = RNN(cell, return_sequences=False, dtype=\"float32\")\n    \n    # Create model\n    model = Sequential([\n        rnn,\n        Dense(output_dim, activation=\"linear\", dtype=\"float32\")\n    ])\n    \n    return model\n\n\ndef generate_sequence_data(\n    num_samples: int,\n    seq_len: int,\n    input_dim: int\n):\n    \"\"\"Generate synthetic sequence data.\n    \n    Args:\n        num_samples: Number of sequences\n        seq_len: Length of each sequence\n        input_dim: Input dimension\n        \n    Returns:\n        Tuple of (inputs, time_deltas, targets)\n    \"\"\"\n    # Generate random sequences\n    x = np.random.normal(size=(num_samples, seq_len, input_dim)).astype(np.float32)\n    \n    # Generate random time deltas\n    t = np.random.uniform(0.1, 1.0, size=(num_samples, seq_len, 1)).astype(np.float32)\n    \n    # Generate targets (sum of sequence)\n    y = np.sum(x, axis=1).astype(np.float32)\n    \n    return x, t, y\n\n\ndef main():\n    \"\"\"Run example.\"\"\"\n    # Parameters\n    batch_size = 32\n    seq_len = 20\n    input_dim = 16\n    hidden_dim = 32\n    output_dim = 16\n    \n    # Generate data\n    x_train, t_train, y_train = generate_sequence_data(\n        num_samples=1000,\n        seq_len=seq_len,\n        input_dim=input_dim\n    )\n    \n    x_test, t_test, y_test = generate_sequence_data(\n        num_samples=100,\n        seq_len=seq_len,\n        input_dim=input_dim\n    )\n    \n    # Create model\n    model = create_liquid_model(\n        input_dim=input_dim,\n        hidden_dim=hidden_dim,\n        output_dim=output_dim,\n        backbone_units=64,\n        backbone_layers=2,\n        mode=\"pure\"\n    )\n    \n    # Convert inputs to tensors\n    x_train = ops.convert_to_tensor(x_train, dtype=\"float32\")\n    t_train = ops.convert_to_tensor(t_train, dtype=\"float32\")\n    y_train = ops.convert_to_tensor(y_train, dtype=\"float32\")\n    \n    x_test = ops.convert_to_tensor(x_test, dtype=\"float32\")\n    t_test = ops.convert_to_tensor(t_test, dtype=\"float32\")\n    y_test = ops.convert_to_tensor(y_test, dtype=\"float32\")\n    \n    # Process some data\n    print(\"\\nProcessing training data...\")\n    y_pred = model([x_train[:batch_size], t_train[:batch_size]])\n    print(f\"Input shape: {x_train.shape}\")\n    print(f\"Time deltas shape: {t_train.shape}\")\n    print(f\"Output shape: {y_pred.shape}\")\n    \n    # Compute mean squared error\n    mse = ops.reduce_mean(ops.square(y_pred - y_train[:batch_size]))\n    print(f\"Training MSE: {mse.numpy():.4f}\")\n    \n    print(\"\\nProcessing test data...\")\n    y_pred = model([x_test[:batch_size], t_test[:batch_size]])\n    print(f\"Input shape: {x_test.shape}\")\n    print(f\"Time deltas shape: {t_test.shape}\")\n    print(f\"Output shape: {y_pred.shape}\")\n    \n    # Compute mean squared error\n    mse = ops.reduce_mean(ops.square(y_pred - y_test[:batch_size]))\n    print(f\"Test MSE: {mse.numpy():.4f}\")\n\n\nif __name__ == \"__main__\":\n    main()"
      ]
    }
  ],
  "metadata": {
    "kernelspec": {
      "display_name": "Python 3",
      "language": "python",
      "name": "python3"
    },
    "language_info": {
      "codemirror_mode": {
        "name": "ipython",
        "version": 3
      },
      "file_extension": ".py",
      "mimetype": "text/x-python",
      "name": "python",
      "nbconvert_exporter": "python",
      "pygments_lexer": "ipython3",
      "version": "3.12.2"
    }
  },
  "nbformat": 4,
  "nbformat_minor": 0
}