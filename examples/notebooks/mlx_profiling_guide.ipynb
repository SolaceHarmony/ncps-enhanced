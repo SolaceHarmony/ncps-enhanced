{
 "cells": [
  {
   "cell_type": "markdown",
   "metadata": {},
   "source": [
    "# Neural Circuit Policy Profiling Guide\n",
    "\n",
    "This notebook demonstrates how to use the profiling tools to analyze and optimize neural circuit policies:\n",
    "- Memory usage analysis\n",
    "- Performance profiling\n",
    "- Connectivity analysis\n",
    "- Optimization techniques"
   ]
  },
  {
   "cell_type": "code",
   "execution_count": null,
   "metadata": {},
   "source": [
    "import mlx.core as mx\n",
    "import mlx.nn as nn\n",
    "import numpy as np\n",
    "import matplotlib.pyplot as plt\n",
    "from ncps.mlx import CfC, LTC\n",
    "from ncps.mlx.wirings import Random, NCP, AutoNCP\n",
    "from ncps.mlx.profiling import WiringProfiler, profile_wiring"
   ]
  },
  {
   "cell_type": "markdown",
   "metadata": {},
   "source": [
    "## 1. Basic Profiling\n",
    "\n",
    "Let's start by profiling a simple random wiring pattern:"
   ]
  },
  {
   "cell_type": "code",
   "execution_count": null,
   "metadata": {},
   "source": [
    "# Create a random wiring\n",
    "wiring = Random(units=100, sparsity_level=0.5)\n",
    "model = CfC(wiring=wiring)\n",
    "\n",
    "# Quick profile\n",
    "perf_stats, conn_stats = profile_wiring(\n",
    "    wiring,\n",
    "    model=model,\n",
    "    batch_size=32,\n",
    "    seq_length=10,\n",
    "    num_runs=100\n",
    ")\n",
    "\n",
    "print(\"Performance Statistics:\")\n",
    "for key, value in perf_stats.items():\n",
    "    if 'time' in key:\n",
    "        print(f\"{key}: {value*1000:.2f} ms\")\n",
    "    else:\n",
    "        print(f\"{key}: {value:.2f}\")\n",
    "\n",
    "print(\"\\nConnectivity Statistics:\")\n",
    "for key, value in conn_stats.items():\n",
    "    print(f\"{key}: {value}\")"
   ]
  },
  {
   "cell_type": "markdown",
   "metadata": {},
   "source": [
    "## 2. Detailed Analysis\n",
    "\n",
    "For more detailed analysis, we can use the WiringProfiler class:"
   ]
  },
  {
   "cell_type": "code",
   "execution_count": null,
   "metadata": {},
   "source": [
    "# Create profiler\n",
    "profiler = WiringProfiler(wiring)\n",
    "\n",
    "# Profile multiple runs\n",
    "for _ in range(5):\n",
    "    # Generate random data\n",
    "    x = mx.random.normal((32, 10, 8))\n",
    "    y = mx.random.normal((32, 10, wiring.output_dim))\n",
    "    \n",
    "    # Profile forward and backward passes\n",
    "    fwd_stats = profiler.profile_forward(model, batch_size=32)\n",
    "    bwd_stats = profiler.profile_backward(model, batch_size=32)\n",
    "\n",
    "# Plot history\n",
    "profiler.plot_history()"
   ]
  },
  {
   "cell_type": "markdown",
   "metadata": {},
   "source": [
    "## 3. Connectivity Analysis\n",
    "\n",
    "Let's analyze different wiring patterns:"
   ]
  },
  {
   "cell_type": "code",
   "execution_count": null,
   "metadata": {},
   "source": [
    "def analyze_wiring(name, wiring):\n",
    "    \"\"\"Analyze a wiring pattern.\"\"\"\n",
    "    profiler = WiringProfiler(wiring)\n",
    "    print(f\"\\n{name} Analysis:\")\n",
    "    print(profiler.summary())\n",
    "\n",
    "# Compare different patterns\n",
    "wirings = {\n",
    "    'Random (Dense)': Random(units=100, sparsity_level=0.2),\n",
    "    'Random (Sparse)': Random(units=100, sparsity_level=0.8),\n",
    "    'NCP': NCP(\n",
    "        inter_neurons=50,\n",
    "        command_neurons=30,\n",
    "        motor_neurons=20,\n",
    "        sensory_fanout=5,\n",
    "        inter_fanout=5,\n",
    "        recurrent_command_synapses=10,\n",
    "        motor_fanin=5\n",
    "    ),\n",
    "    'AutoNCP': AutoNCP(units=100, output_size=20, sparsity_level=0.5)\n",
    "}\n",
    "\n",
    "for name, wiring in wirings.items():\n",
    "    analyze_wiring(name, wiring)"
   ]
  },
  {
   "cell_type": "markdown",
   "metadata": {},
   "source": [
    "## 4. Performance Optimization\n",
    "\n",
    "Let's explore how different parameters affect performance:"
   ]
  },
  {
   "cell_type": "code",
   "execution_count": null,
   "metadata": {},
   "source": [
    "def benchmark_wiring(wiring, batch_sizes=[1, 16, 32, 64]):\n",
    "    \"\"\"Benchmark wiring with different batch sizes.\"\"\"\n",
    "    model = CfC(wiring=wiring)\n",
    "    profiler = WiringProfiler(wiring)\n",
    "    \n",
    "    results = []\n",
    "    for batch_size in batch_sizes:\n",
    "        fwd_stats = profiler.profile_forward(\n",
    "            model,\n",
    "            batch_size=batch_size,\n",
    "            num_runs=50\n",
    "        )\n",
    "        results.append({\n",
    "            'batch_size': batch_size,\n",
    "            'time': fwd_stats['mean']\n",
    "        })\n",
    "    \n",
    "    return results\n",
    "\n",
    "# Compare different sparsity levels\n",
    "sparsities = [0.2, 0.5, 0.8]\n",
    "results = {}\n",
    "\n",
    "for sparsity in sparsities:\n",
    "    wiring = Random(units=100, sparsity_level=sparsity)\n",
    "    results[sparsity] = benchmark_wiring(wiring)\n",
    "\n",
    "# Plot results\n",
    "plt.figure(figsize=(10, 5))\n",
    "for sparsity, data in results.items():\n",
    "    batch_sizes = [d['batch_size'] for d in data]\n",
    "    times = [d['time']*1000 for d in data]  # Convert to ms\n",
    "    plt.plot(batch_sizes, times, marker='o', label=f'Sparsity {sparsity}')\n",
    "\n",
    "plt.xlabel('Batch Size')\n",
    "plt.ylabel('Forward Time (ms)')\n",
    "plt.title('Performance vs Batch Size for Different Sparsity Levels')\n",
    "plt.legend()\n",
    "plt.grid(True)\n",
    "plt.show()"
   ]
  },
  {
   "cell_type": "markdown",
   "metadata": {},
   "source": [
    "## 5. Memory Analysis\n",
    "\n",
    "Let's analyze memory usage patterns:"
   ]
  },
  {
   "cell_type": "code",
   "execution_count": null,
   "metadata": {},
   "source": [
    "def analyze_memory_scaling(sizes=[50, 100, 200, 400, 800]):\n",
    "    \"\"\"Analyze memory scaling with network size.\"\"\"\n",
    "    memories = []\n",
    "    \n",
    "    for size in sizes:\n",
    "        wiring = Random(units=size, sparsity_level=0.5)\n",
    "        profiler = WiringProfiler(wiring)\n",
    "        memories.append(profiler._measure_memory())\n",
    "    \n",
    "    plt.figure(figsize=(10, 5))\n",
    "    plt.plot(sizes, memories, marker='o')\n",
    "    plt.xlabel('Number of Units')\n",
    "    plt.ylabel('Memory Usage (MB)')\n",
    "    plt.title('Memory Scaling with Network Size')\n",
    "    plt.grid(True)\n",
    "    plt.show()\n",
    "    \n",
    "    # Fit quadratic curve\n",
    "    coeffs = np.polyfit(sizes, memories, 2)\n",
    "    print(f\"Memory scaling approximately O(n^2) with coefficient: {coeffs[0]:.2e}\")\n",
    "\n",
    "analyze_memory_scaling()"
   ]
  },
  {
   "cell_type": "markdown",
   "metadata": {},
   "source": [
    "## 6. Optimization Guidelines\n",
    "\n",
    "Based on our analysis, here are key guidelines for optimizing neural circuit policies:\n",
    "\n",
    "1. **Memory Optimization**\n",
    "   - Use appropriate sparsity levels\n",
    "   - Balance network size with performance\n",
    "   - Consider memory-compute tradeoffs\n",
    "\n",
    "2. **Performance Optimization**\n",
    "   - Choose batch sizes based on hardware\n",
    "   - Optimize network topology\n",
    "   - Use appropriate sparsity patterns\n",
    "\n",
    "3. **Connectivity Optimization**\n",
    "   - Design task-specific wiring patterns\n",
    "   - Balance local and global connections\n",
    "   - Consider information flow paths\n",
    "\n",
    "4. **Training Optimization**\n",
    "   - Use appropriate batch sizes\n",
    "   - Monitor memory usage\n",
    "   - Profile critical operations"
   ]
  }
 ],
 "metadata": {
  "kernelspec": {
   "display_name": "Python 3",
   "language": "python",
   "name": "python3"
  },
  "language_info": {
   "codemirror_mode": {
    "name": "ipython",
    "version": 3
   },
   "file_extension": ".py",
   "mimetype": "text/x-python",
   "name": "python",
   "nbconvert_exporter": "python",
   "pygments_lexer": "ipython3",
   "version": "3.8.0"
  }
 },
 "nbformat": 4,
 "nbformat_minor": 4
}
