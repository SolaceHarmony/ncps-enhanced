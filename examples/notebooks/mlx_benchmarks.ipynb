{
 "cells": [
  {
   "cell_type": "markdown",
   "metadata": {},
   "source": [
    "# Neural Circuit Policies: Performance Benchmarks\n",
    "\n",
    "This notebook compares the performance of our MLX implementation against other frameworks (PyTorch, TensorFlow) across different scenarios:\n",
    "\n",
    "- Training speed\n",
    "- Inference latency\n",
    "- Memory usage\n",
    "- Scaling with sequence length"
   ]
  },
  {
   "cell_type": "code",
   "execution_count": 1,
   "metadata": {},
   "outputs": [
    {
     "ename": "AttributeError",
     "evalue": "module 'keras._tf_keras.keras.layers' has no attribute 'AbstractRNNCell'",
     "output_type": "error",
     "traceback": [
      "\u001b[0;31m---------------------------------------------------------------------------\u001b[0m",
      "\u001b[0;31mAttributeError\u001b[0m                            Traceback (most recent call last)",
      "Cell \u001b[0;32mIn[1], line 24\u001b[0m\n\u001b[1;32m     22\u001b[0m \u001b[38;5;28;01mfrom\u001b[39;00m\u001b[38;5;250m \u001b[39m\u001b[38;5;21;01mncps\u001b[39;00m\u001b[38;5;21;01m.\u001b[39;00m\u001b[38;5;21;01mmlx\u001b[39;00m\u001b[38;5;250m \u001b[39m\u001b[38;5;28;01mimport\u001b[39;00m CfC \u001b[38;5;28;01mas\u001b[39;00m MLXCfC\n\u001b[1;32m     23\u001b[0m \u001b[38;5;28;01mfrom\u001b[39;00m\u001b[38;5;250m \u001b[39m\u001b[38;5;21;01mncps\u001b[39;00m\u001b[38;5;21;01m.\u001b[39;00m\u001b[38;5;21;01mtorch\u001b[39;00m\u001b[38;5;250m \u001b[39m\u001b[38;5;28;01mimport\u001b[39;00m CfC \u001b[38;5;28;01mas\u001b[39;00m TorchCfC\n\u001b[0;32m---> 24\u001b[0m \u001b[38;5;28;01mfrom\u001b[39;00m\u001b[38;5;250m \u001b[39m\u001b[38;5;21;01mncps\u001b[39;00m\u001b[38;5;21;01m.\u001b[39;00m\u001b[38;5;21;01mtf\u001b[39;00m\u001b[38;5;250m \u001b[39m\u001b[38;5;28;01mimport\u001b[39;00m CfC \u001b[38;5;28;01mas\u001b[39;00m TFCfC\n",
      "File \u001b[0;32m/Volumes/stuff/Projects/ncps-mlx/ncps/tf/__init__.py:17\u001b[0m\n\u001b[1;32m      1\u001b[0m \u001b[38;5;66;03m# Copyright 2020-2021 Mathias Lechner\u001b[39;00m\n\u001b[1;32m      2\u001b[0m \u001b[38;5;66;03m#\u001b[39;00m\n\u001b[1;32m      3\u001b[0m \u001b[38;5;66;03m# Licensed under the Apache License, Version 2.0 (the \"License\");\u001b[39;00m\n\u001b[0;32m   (...)\u001b[0m\n\u001b[1;32m     12\u001b[0m \u001b[38;5;66;03m# See the License for the specific language governing permissions and\u001b[39;00m\n\u001b[1;32m     13\u001b[0m \u001b[38;5;66;03m# limitations under the License.\u001b[39;00m\n\u001b[1;32m     16\u001b[0m \u001b[38;5;28;01mfrom\u001b[39;00m\u001b[38;5;250m \u001b[39m\u001b[38;5;21;01m.\u001b[39;00m\u001b[38;5;21;01mltc_cell\u001b[39;00m\u001b[38;5;250m \u001b[39m\u001b[38;5;28;01mimport\u001b[39;00m LTCCell\n\u001b[0;32m---> 17\u001b[0m \u001b[38;5;28;01mfrom\u001b[39;00m\u001b[38;5;250m \u001b[39m\u001b[38;5;21;01m.\u001b[39;00m\u001b[38;5;21;01mmm_rnn\u001b[39;00m\u001b[38;5;250m \u001b[39m\u001b[38;5;28;01mimport\u001b[39;00m MixedMemoryRNN\n\u001b[1;32m     18\u001b[0m \u001b[38;5;28;01mfrom\u001b[39;00m\u001b[38;5;250m \u001b[39m\u001b[38;5;21;01m.\u001b[39;00m\u001b[38;5;21;01mcfc_cell\u001b[39;00m\u001b[38;5;250m \u001b[39m\u001b[38;5;28;01mimport\u001b[39;00m CfCCell\n\u001b[1;32m     19\u001b[0m \u001b[38;5;28;01mfrom\u001b[39;00m\u001b[38;5;250m \u001b[39m\u001b[38;5;21;01m.\u001b[39;00m\u001b[38;5;21;01mwired_cfc_cell\u001b[39;00m\u001b[38;5;250m \u001b[39m\u001b[38;5;28;01mimport\u001b[39;00m WiredCfCCell\n",
      "File \u001b[0;32m/Volumes/stuff/Projects/ncps-mlx/ncps/tf/mm_rnn.py:22\u001b[0m\n\u001b[1;32m     17\u001b[0m \u001b[38;5;28;01mimport\u001b[39;00m\u001b[38;5;250m \u001b[39m\u001b[38;5;21;01mtensorflow\u001b[39;00m\u001b[38;5;250m \u001b[39m\u001b[38;5;28;01mas\u001b[39;00m\u001b[38;5;250m \u001b[39m\u001b[38;5;21;01mtf\u001b[39;00m\n\u001b[1;32m     18\u001b[0m \u001b[38;5;28;01mfrom\u001b[39;00m\u001b[38;5;250m \u001b[39m\u001b[38;5;21;01mtyping\u001b[39;00m\u001b[38;5;250m \u001b[39m\u001b[38;5;28;01mimport\u001b[39;00m Optional, Union\n\u001b[1;32m     21\u001b[0m \u001b[38;5;129m@tf\u001b[39m\u001b[38;5;241m.\u001b[39mkeras\u001b[38;5;241m.\u001b[39mutils\u001b[38;5;241m.\u001b[39mregister_keras_serializable(package\u001b[38;5;241m=\u001b[39m\u001b[38;5;124m\"\u001b[39m\u001b[38;5;124mncps\u001b[39m\u001b[38;5;124m\"\u001b[39m, name\u001b[38;5;241m=\u001b[39m\u001b[38;5;124m\"\u001b[39m\u001b[38;5;124mMixedMemoryRNN\u001b[39m\u001b[38;5;124m\"\u001b[39m)\n\u001b[0;32m---> 22\u001b[0m \u001b[38;5;28;01mclass\u001b[39;00m\u001b[38;5;250m \u001b[39m\u001b[38;5;21;01mMixedMemoryRNN\u001b[39;00m(\u001b[43mtf\u001b[49m\u001b[38;5;241;43m.\u001b[39;49m\u001b[43mkeras\u001b[49m\u001b[38;5;241;43m.\u001b[39;49m\u001b[43mlayers\u001b[49m\u001b[38;5;241;43m.\u001b[39;49m\u001b[43mAbstractRNNCell\u001b[49m):\n\u001b[1;32m     23\u001b[0m     \u001b[38;5;28;01mdef\u001b[39;00m\u001b[38;5;250m \u001b[39m\u001b[38;5;21m__init__\u001b[39m(\u001b[38;5;28mself\u001b[39m, rnn_cell, forget_gate_bias\u001b[38;5;241m=\u001b[39m\u001b[38;5;241m1.0\u001b[39m, \u001b[38;5;241m*\u001b[39m\u001b[38;5;241m*\u001b[39mkwargs):\n\u001b[1;32m     24\u001b[0m         \u001b[38;5;28msuper\u001b[39m()\u001b[38;5;241m.\u001b[39m\u001b[38;5;21m__init__\u001b[39m(\u001b[38;5;241m*\u001b[39m\u001b[38;5;241m*\u001b[39mkwargs)\n",
      "\u001b[0;31mAttributeError\u001b[0m: module 'keras._tf_keras.keras.layers' has no attribute 'AbstractRNNCell'"
     ]
    }
   ],
   "source": [
    "# Install required packages if not present\n",
    "try:\n",
    "    import memory_profiler\n",
    "except ImportError:\n",
    "    %pip install memory_profiler\n",
    "\n",
    "import mlx.core as mx\n",
    "import mlx.nn as nn\n",
    "import torch\n",
    "import tensorflow as tf\n",
    "import numpy as np\n",
    "import time\n",
    "import matplotlib.pyplot as plt\n",
    "\n",
    "try:\n",
    "    from memory_profiler import profile\n",
    "except ImportError:\n",
    "    print(\"Warning: memory_profiler not available. Memory profiling will be disabled.\")\n",
    "    def profile(func):\n",
    "        return func\n",
    "\n",
    "from ncps.mlx import CfC as MLXCfC\n",
    "from ncps.torch import CfC as TorchCfC\n",
    "from ncps.tf import CfC as TFCfC"
   ]
  },
  {
   "cell_type": "markdown",
   "metadata": {},
   "source": [
    "## Computation Efficiency"
   ]
  },
  {
   "cell_type": "code",
   "execution_count": null,
   "metadata": {},
   "outputs": [],
   "source": [
    "def benchmark_computation(model_sizes=[32, 64, 128, 256]):\n",
    "    \"\"\"Benchmark computation efficiency across model sizes.\"\"\"\n",
    "    try:\n",
    "        from ncps.wirings import AutoNCP\n",
    "        from ncps.mlx import CfC\n",
    "        from ncps.mlx.profiling import profile_wiring\n",
    "        \n",
    "        results = []\n",
    "        batch_size = 64\n",
    "        seq_len = 32\n",
    "        \n",
    "        for size in model_sizes:\n",
    "            try:\n",
    "                wiring = AutoNCP(units=size, output_size=size//4)\n",
    "                model = CfC(wiring=wiring)\n",
    "                \n",
    "                # Profile model\n",
    "                perf_stats, conn_stats = profile_wiring(\n",
    "                    wiring=wiring,\n",
    "                    model=model,\n",
    "                    batch_size=batch_size,\n",
    "                    seq_length=seq_len,\n",
    "                    num_runs=100\n",
    "                )\n",
    "                \n",
    "                # Calculate FLOPS (approximation based on forward pass)\n",
    "                # Each neuron performs multiply-add operations with its inputs\n",
    "                synapses = conn_stats['avg_in_degree'] * wiring.units\n",
    "                flops_per_step = synapses * 2  # multiply + add\n",
    "                total_flops = flops_per_step * seq_len * batch_size\n",
    "                \n",
    "                # Calculate throughput\n",
    "                forward_time = perf_stats['forward_time']\n",
    "                throughput = total_flops / forward_time if forward_time > 0 else 0\n",
    "                \n",
    "                results.append({\n",
    "                    'size': size,\n",
    "                    'flops': total_flops,\n",
    "                    'throughput': throughput\n",
    "                })\n",
    "                \n",
    "            except Exception as e:\n",
    "                print(f\"Error benchmarking size {size}: {str(e)}\")\n",
    "                continue\n",
    "                \n",
    "        return results\n",
    "        \n",
    "    except ImportError as e:\n",
    "        print(f\"Missing required imports: {str(e)}\")\n",
    "        return []\n",
    "\n",
    "# Run computation benchmark\n",
    "comp_results = benchmark_computation()\n",
    "\n",
    "# Plot results\n",
    "plt.figure(figsize=(10, 5))\n",
    "\n",
    "plt.subplot(121)\n",
    "plt.plot([r['size'] for r in comp_results],\n",
    "         [r['flops'] for r in comp_results],\n",
    "         marker='o')\n",
    "plt.xlabel('Model Size')\n",
    "plt.ylabel('FLOPS')\n",
    "plt.title('Computational Complexity')\n",
    "plt.grid(True)\n",
    "\n",
    "plt.subplot(122)\n",
    "plt.plot([r['size'] for r in comp_results],\n",
    "         [r['throughput'] for r in comp_results],\n",
    "         marker='o')\n",
    "plt.xlabel('Model Size')\n",
    "plt.ylabel('Throughput (FLOPS/s)')\n",
    "plt.title('Computational Efficiency')\n",
    "plt.grid(True)\n",
    "\n",
    "plt.tight_layout()\n",
    "plt.show()"
   ]
  }
 ],
 "metadata": {
  "kernelspec": {
   "display_name": "Python 3",
   "language": "python",
   "name": "python3"
  },
  "language_info": {
   "codemirror_mode": {
    "name": "ipython",
    "version": 3
   },
   "file_extension": ".py",
   "mimetype": "text/x-python",
   "name": "python",
   "nbconvert_exporter": "python",
   "pygments_lexer": "ipython3",
   "version": "3.8.0"
  }
 },
 "nbformat": 4,
 "nbformat_minor": 4
}
