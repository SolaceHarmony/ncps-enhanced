{
 "cells": [
  {
   "cell_type": "markdown",
   "metadata": {},
   "source": [
    "# Hardware-Specific Neural Circuit Policy Examples\n",
    "\n",
    "This notebook demonstrates how to optimize Neural Circuit Policies for different Apple Silicon processors:\n",
    "\n",
    "- M1 Optimization\n",
    "- M1 Pro/Max Optimization\n",
    "- M1 Ultra Optimization\n",
    "- Performance Comparison"
   ]
  },
  {
   "cell_type": "code",
   "execution_count": null,
   "metadata": {},
   "source": [
    "import mlx.core as mx\n",
    "import mlx.nn as nn\n",
    "import numpy as np\n",
    "import matplotlib.pyplot as plt\n",
    "from ncps.mlx import CfC, CfCCell\n",
    "from ncps.wirings import AutoNCP\n",
    "from ncps.mlx.advanced_profiling import MLXProfiler\n",
    "from ncps.tests.configs.device_configs import get_device_config"
   ]
  },
  {
   "cell_type": "markdown",
   "metadata": {},
   "source": [
    "## 1. Device Detection and Configuration\n",
    "\n",
    "First, let's detect the current device and get its optimal configuration:"
   ]
  },
  {
   "cell_type": "code",
   "execution_count": null,
   "metadata": {},
   "source": [
    "# Get device configuration\n",
    "config = get_device_config()\n",
    "print(f\"Detected device: {config.device_type}\")\n",
    "print(f\"Optimal batch size: {config.get_optimal_batch_size()}\")\n",
    "print(f\"Optimal hidden size: {config.get_optimal_hidden_size()}\")\n",
    "print(f\"Optimal backbone: {config.get_optimal_backbone()}\")"
   ]
  },
  {
   "cell_type": "markdown",
   "metadata": {},
   "source": [
    "## 2. Device-Optimized Model Creation\n",
    "\n",
    "Create a model optimized for the current device:"
   ]
  },
  {
   "cell_type": "code",
   "execution_count": null,
   "metadata": {},
   "source": [
    "def create_optimized_model(config):\n",
    "    \"\"\"Create device-optimized model.\"\"\"\n",
    "    # Create wiring with optimal size\n",
    "    wiring = AutoNCP(\n",
    "        units=config.get_optimal_hidden_size(),\n",
    "        output_size=config.get_optimal_hidden_size() // 4\n",
    "    )\n",
    "    \n",
    "    # Create model with optimal backbone\n",
    "    model = CfC(\n",
    "        cell=CfCCell(\n",
    "            wiring=wiring,\n",
    "            activation=\"tanh\",\n",
    "            backbone_units=config.get_optimal_backbone(),\n",
    "            backbone_layers=2\n",
    "        ),\n",
    "        return_sequences=True\n",
    "    )\n",
    "    \n",
    "    return model\n",
    "\n",
    "# Create optimized model\n",
    "model = create_optimized_model(config)"
   ]
  },
  {
   "cell_type": "markdown",
   "metadata": {},
   "source": [
    "## 3. Neural Engine Optimization\n",
    "\n",
    "Optimize for Neural Engine performance:"
   ]
  },
  {
   "cell_type": "code",
   "execution_count": null,
   "metadata": {},
   "source": [
    "def optimize_for_neural_engine(model, config):\n",
    "    \"\"\"Optimize model for Neural Engine.\"\"\"\n",
    "    # Create test data\n",
    "    batch_size = config.get_optimal_batch_size()\n",
    "    x = mx.random.normal((batch_size, 16, model.input_size))\n",
    "    \n",
    "    # Test without compilation\n",
    "    start = time.time()\n",
    "    for _ in range(100):\n",
    "        _ = model(x)\n",
    "        mx.eval(_)\n",
    "    uncompiled_time = (time.time() - start) / 100\n",
    "    \n",
    "    # Test with compilation\n",
    "    @mx.compile(static_argnums=(1,))\n",
    "    def forward(x, training=False):\n",
    "        return model(x, training=training)\n",
    "    \n",
    "    # Warmup\n",
    "    _ = forward(x)\n",
    "    mx.eval(_)\n",
    "    \n",
    "    start = time.time()\n",
    "    for _ in range(100):\n",
    "        _ = forward(x)\n",
    "        mx.eval(_)\n",
    "    compiled_time = (time.time() - start) / 100\n",
    "    \n",
    "    return {\n",
    "        'uncompiled_time': uncompiled_time,\n",
    "        'compiled_time': compiled_time,\n",
    "        'speedup': uncompiled_time / compiled_time\n",
    "    }\n",
    "\n",
    "# Test Neural Engine optimization\n",
    "ne_stats = optimize_for_neural_engine(model, config)\n",
    "print(f\"Compilation speedup: {ne_stats['speedup']:.2f}x\")"
   ]
  },
  {
   "cell_type": "markdown",
   "metadata": {},
   "source": [
    "## 4. Memory Optimization\n",
    "\n",
    "Optimize memory usage for the device:"
   ]
  },
  {
   "cell_type": "code",
   "execution_count": null,
   "metadata": {},
   "source": [
    "def optimize_memory(model, config):\n",
    "    \"\"\"Optimize memory usage.\"\"\"\n",
    "    profiler = MLXProfiler(model)\n",
    "    \n",
    "    # Profile memory usage\n",
    "    stats = profiler.profile_memory(\n",
    "        batch_size=config.get_optimal_batch_size(),\n",
    "        track_unified=True\n",
    "    )\n",
    "    \n",
    "    print(f\"Peak memory usage: {stats['peak_usage']:.2f} MB\")\n",
    "    print(f\"Memory bandwidth: {stats['bandwidth']:.2f} GB/s\")\n",
    "    \n",
    "    # Verify within budget\n",
    "    memory_ok = stats['peak_usage'] <= config.memory_budget\n",
    "    bandwidth_ok = stats['bandwidth'] >= config.min_bandwidth\n",
    "    \n",
    "    print(f\"Memory within budget: {memory_ok}\")\n",
    "    print(f\"Bandwidth meets minimum: {bandwidth_ok}\")\n",
    "\n",
    "# Test memory optimization\n",
    "optimize_memory(model, config)"
   ]
  },
  {
   "cell_type": "markdown",
   "metadata": {},
   "source": [
    "## 5. Performance Comparison\n",
    "\n",
    "Compare performance across different configurations:"
   ]
  },
  {
   "cell_type": "code",
   "execution_count": null,
   "metadata": {},
   "source": [
    "def compare_configurations(model, config):\n",
    "    \"\"\"Compare different configurations.\"\"\"\n",
    "    results = []\n",
    "    profiler = MLXProfiler(model)\n",
    "    \n",
    "    for batch_size in config.batch_sizes:\n",
    "        # Profile performance\n",
    "        compute_stats = profiler.profile_compute(\n",
    "            batch_size=batch_size,\n",
    "            seq_length=16,\n",
    "            num_runs=100\n",
    "        )\n",
    "        \n",
    "        # Profile memory\n",
    "        memory_stats = profiler.profile_memory(\n",
    "            batch_size=batch_size\n",
    "        )\n",
    "        \n",
    "        results.append({\n",
    "            'batch_size': batch_size,\n",
    "            'tflops': compute_stats['tflops'],\n",
    "            'memory': memory_stats['peak_usage'],\n",
    "            'bandwidth': memory_stats['bandwidth']\n",
    "        })\n",
    "    \n",
    "    return results\n",
    "\n",
    "# Compare configurations\n",
    "results = compare_configurations(model, config)\n",
    "\n",
    "# Plot results\n",
    "plt.figure(figsize=(15, 5))\n",
    "\n",
    "# Plot TFLOPS\n",
    "plt.subplot(131)\n",
    "plt.plot(\n",
    "    [r['batch_size'] for r in results],\n",
    "    [r['tflops'] for r in results],\n",
    "    marker='o'\n",
    ")\n",
    "plt.xlabel('Batch Size')\n",
    "plt.ylabel('TFLOPS')\n",
    "plt.title('Compute Performance')\n",
    "\n",
    "# Plot memory\n",
    "plt.subplot(132)\n",
    "plt.plot(\n",
    "    [r['batch_size'] for r in results],\n",
    "    [r['memory'] for r in results],\n",
    "    marker='o'\n",
    ")\n",
    "plt.xlabel('Batch Size')\n",
    "plt.ylabel('Memory (MB)')\n",
    "plt.title('Memory Usage')\n",
    "\n",
    "# Plot bandwidth\n",
    "plt.subplot(133)\n",
    "plt.plot(\n",
    "    [r['batch_size'] for r in results],\n",
    "    [r['bandwidth'] for r in results],\n",
    "    marker='o'\n",
    ")\n",
    "plt.xlabel('Batch Size')\n",
    "plt.ylabel('Bandwidth (GB/s)')\n",
    "plt.title('Memory Bandwidth')\n",
    "\n",
    "plt.tight_layout()\n",
    "plt.show()"
   ]
  },
  {
   "cell_type": "markdown",
   "metadata": {},
   "source": [
    "## Hardware-Specific Insights\n",
    "\n",
    "Based on our experiments:\n",
    "\n",
    "1. **Neural Engine Performance**\n",
    "   - Compilation provides significant speedup\n",
    "   - Power-of-2 sizes are optimal\n",
    "   - Batch size affects utilization\n",
    "   - Device-specific scaling\n",
    "\n",
    "2. **Memory Management**\n",
    "   - Unified memory is efficient\n",
    "   - Bandwidth scales with batch size\n",
    "   - Memory usage is predictable\n",
    "   - Device limits are respected\n",
    "\n",
    "3. **Optimization Tips**\n",
    "   - Use device-specific configs\n",
    "   - Enable compilation\n",
    "   - Monitor performance\n",
    "   - Balance resources\n",
    "\n",
    "4. **Device-Specific Settings**\n",
    "   - M1: 32-64 batch size\n",
    "   - M1 Pro/Max: 64-128 batch size\n",
    "   - M1 Ultra: 128-256 batch size\n",
    "   - Adjust based on model size"
   ]
  }
 ],
 "metadata": {
  "kernelspec": {
   "display_name": "Python 3",
   "language": "python",
   "name": "python3"
  },
  "language_info": {
   "codemirror_mode": {
    "name": "ipython",
    "version": 3
   },
   "file_extension": ".py",
   "mimetype": "text/x-python",
   "name": "python",
   "nbconvert_exporter": "python",
   "pygments_lexer": "ipython3",
   "version": "3.8.0"
  }
 },
 "nbformat": 4,
 "nbformat_minor": 4
}